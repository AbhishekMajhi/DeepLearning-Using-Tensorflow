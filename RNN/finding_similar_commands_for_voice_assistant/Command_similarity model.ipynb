{
 "cells": [
  {
   "cell_type": "markdown",
   "metadata": {
    "id": "1RO9HhsEooia"
   },
   "source": [
    "# Kaggle Dataset downloading procedure"
   ]
  },
  {
   "cell_type": "markdown",
   "metadata": {
    "id": "dDnbu1E9Py9q"
   },
   "source": [
    "If you don't have glove word to vector representation download, then you can download it from kaggle. Follow some tutorial and you can find the procedure to do that. You can ignore this seesion if you have glove downloaded."
   ]
  },
  {
   "cell_type": "code",
   "execution_count": null,
   "metadata": {
    "colab": {
     "base_uri": "https://localhost:8080/",
     "height": 36
    },
    "id": "vvTIEiY1mBAg",
    "outputId": "d0088efc-dd6c-4861-a7e6-6959c24c03c4"
   },
   "outputs": [],
   "source": [
    "import os \n",
    "os.getcwd()"
   ]
  },
  {
   "cell_type": "code",
   "execution_count": null,
   "metadata": {
    "id": "PrDen2kZoJrT"
   },
   "outputs": [],
   "source": [
    "# create a dir first\n",
    "!mkdir .kaggle"
   ]
  },
  {
   "cell_type": "code",
   "execution_count": null,
   "metadata": {
    "colab": {
     "base_uri": "https://localhost:8080/"
    },
    "id": "CqCIdQLQn7Zh",
    "outputId": "600db80c-1b70-4e4d-aa74-9cdbddefd6e0"
   },
   "outputs": [],
   "source": [
    "os.listdir()"
   ]
  },
  {
   "cell_type": "code",
   "execution_count": null,
   "metadata": {
    "id": "PligCHC4mA8o"
   },
   "outputs": [],
   "source": [
    "import json\n",
    "token = {\"username\":\"steveabhishek\",\"key\":\"784b75b23b20db654f0ebdffe71d14c1\"}\n",
    "with open('/content/.kaggle/kaggle.json', 'w') as file:\n",
    "    json.dump(token, file)"
   ]
  },
  {
   "cell_type": "code",
   "execution_count": null,
   "metadata": {
    "id": "gCHo2XC8oYTv"
   },
   "outputs": [],
   "source": [
    "!cp /content/.kaggle/kaggle.json ~/.kaggle/kaggle.json"
   ]
  },
  {
   "cell_type": "code",
   "execution_count": null,
   "metadata": {
    "colab": {
     "base_uri": "https://localhost:8080/"
    },
    "id": "gImcgOTKocVd",
    "outputId": "1b19b580-70d6-4051-f797-83ace18acad3"
   },
   "outputs": [],
   "source": [
    "!kaggle config set -n path -v{/content}"
   ]
  },
  {
   "cell_type": "code",
   "execution_count": null,
   "metadata": {
    "id": "qhnfZHR4ogBB"
   },
   "outputs": [],
   "source": [
    "!chmod 600 /root/.kaggle/kaggle.json"
   ]
  },
  {
   "cell_type": "code",
   "execution_count": null,
   "metadata": {
    "colab": {
     "base_uri": "https://localhost:8080/"
    },
    "id": "DVnwsudNmA4Z",
    "outputId": "345418fd-ed95-4406-aa22-4ab8ca3b1e57"
   },
   "outputs": [],
   "source": [
    "# download glove word to vec from kaggle\n",
    "!kaggle datasets download -d rtatman/glove-global-vectors-for-word-representation"
   ]
  },
  {
   "cell_type": "code",
   "execution_count": null,
   "metadata": {
    "id": "KQD_yHJCo81F"
   },
   "outputs": [],
   "source": [
    "# Its a zip file so now to need to unzip it.\n",
    "import zipfile\n",
    "\n",
    "test_file_path = '/content/{/content}/datasets/rtatman/glove-global-vectors-for-word-representation/glove-global-vectors-for-word-representation.zip'\n",
    "\n",
    "\n",
    "with zipfile.ZipFile(test_file_path,\"r\") as zip_ref:\n",
    "    zip_ref.extractall(\"/content/sample_data/datasets\")"
   ]
  },
  {
   "cell_type": "code",
   "execution_count": null,
   "metadata": {
    "colab": {
     "base_uri": "https://localhost:8080/",
     "height": 36
    },
    "id": "wGcLP5gdpV7f",
    "outputId": "d77e0433-2448-4df1-e739-d15ed218b61a"
   },
   "outputs": [],
   "source": [
    "# coping this file to gdrive\n",
    "import shutil\n",
    "file_path = r'/content/{/content}/datasets/rtatman/glove-global-vectors-for-word-representation/glove-global-vectors-for-word-representation.zip'\n",
    "target_path = r'/content/gdrive/My Drive/Datasets/global-vectors-for-word-representation.zip'\n",
    "shutil.copyfile(file_path, target_path)"
   ]
  },
  {
   "cell_type": "markdown",
   "metadata": {
    "id": "BkfWXv-Royr4"
   },
   "source": [
    "# Now as every thing is set, we are ready to go!!"
   ]
  },
  {
   "cell_type": "markdown",
   "metadata": {
    "id": "-Ri8B2Ynqyfr"
   },
   "source": [
    "# Data Preparation\n",
    "First we need to do some preparation: some of our models require the sentences to be tokenized, some do not. For that reason we'll make a simple Sentence class where we keep both the raw sentence and the tokenized sentence. The individual methods below will then pick the input they need."
   ]
  },
  {
   "cell_type": "markdown",
   "metadata": {
    "id": "T5ds1zmN3UGv"
   },
   "source": [
    "# Ultimate Session"
   ]
  },
  {
   "cell_type": "code",
   "execution_count": null,
   "metadata": {
    "id": "_VCAuznomBPw"
   },
   "outputs": [],
   "source": [
    "import numpy as np\n",
    "np.random.seed(0)\n",
    "from keras.models import Model\n",
    "from keras.layers import Dense, Input, Dropout, LSTM, Activation\n",
    "from keras.layers.embeddings import Embedding\n",
    "from keras.preprocessing import sequence\n",
    "from keras.initializers import glorot_uniform\n",
    "np.random.seed(1)"
   ]
  },
  {
   "cell_type": "code",
   "execution_count": null,
   "metadata": {
    "id": "yZOf_pgjuJfy"
   },
   "outputs": [],
   "source": [
    "def read_glove_vecs(glove_file):\n",
    "    with open(glove_file, 'r') as f:\n",
    "        words = set()\n",
    "        word_to_vec_map = {}\n",
    "        for line in f:\n",
    "            line = line.strip().split()\n",
    "            curr_word = line[0]\n",
    "            words.add(curr_word)\n",
    "            word_to_vec_map[curr_word] = np.array(line[1:], dtype=np.float64)\n",
    "        \n",
    "        i = 1\n",
    "        words_to_index = {}\n",
    "        index_to_words = {}\n",
    "        for w in sorted(words):\n",
    "            words_to_index[w] = i\n",
    "            index_to_words[i] = w\n",
    "            i = i + 1\n",
    "    return words_to_index, index_to_words, word_to_vec_map\n"
   ]
  },
  {
   "cell_type": "code",
   "execution_count": null,
   "metadata": {
    "id": "lOZYLb2jmBXI"
   },
   "outputs": [],
   "source": [
    "word_to_index, index_to_word, word_to_vec_map = read_glove_vecs('/content/sample_data/datasets/glove.6B.200d.txt')"
   ]
  },
  {
   "cell_type": "markdown",
   "metadata": {
    "id": "gSkiZ_Eu3nw9"
   },
   "source": [
    "Lets test it now with a word 'cucumber'"
   ]
  },
  {
   "cell_type": "code",
   "execution_count": null,
   "metadata": {
    "colab": {
     "base_uri": "https://localhost:8080/"
    },
    "id": "Z8b5jh37mBVM",
    "outputId": "2045cc31-7451-49f1-fb7d-cec7a61ed1b2"
   },
   "outputs": [],
   "source": [
    "word = \"cucumber\"\n",
    "idx = 289846\n",
    "print(\"the index of\", word, \"in the vocabulary is\", word_to_index[word])\n",
    "print(\"the\", str(idx) + \"th word in the vocabulary is\", index_to_word[idx])"
   ]
  },
  {
   "cell_type": "code",
   "execution_count": null,
   "metadata": {
    "colab": {
     "base_uri": "https://localhost:8080/"
    },
    "id": "EmCB0p_Y2MJH",
    "outputId": "ccb987ed-b729-45de-c173-c79682a14600"
   },
   "outputs": [],
   "source": [
    " import nltk\n",
    " nltk.download('stopwords')\n"
   ]
  },
  {
   "cell_type": "code",
   "execution_count": null,
   "metadata": {
    "id": "x5S5CKMsTpmB"
   },
   "outputs": [],
   "source": [
    "inverse_vocabulary = ['<unk>'] \n",
    "tokenizer = nltk.tokenize.TreebankWordTokenizer()\n",
    "def sentences_to_indices(X, word_to_index, max_len):\n",
    "    \"\"\"\n",
    "    Converts an array of sentences (strings) into an array of indices corresponding to words in the sentences.\n",
    "    The output shape should be such that it can be given to `Embedding()` (described in Figure 4). \n",
    "    \n",
    "    Arguments:\n",
    "    X -- array of sentences (strings), of shape (m, 1)\n",
    "    word_to_index -- a dictionary containing the each word mapped to its index\n",
    "    max_len -- maximum number of words in a sentence. You can assume every sentence in X is no longer than this. \n",
    "    \n",
    "    Returns:\n",
    "    X_indices -- array of indices corresponding to words in the sentences from X, of shape (m, max_len)\n",
    "    \"\"\"\n",
    "    \n",
    "    m = X.shape[0]                                   # number of training examples\n",
    "    \n",
    "    ### START CODE HERE ###\n",
    "    # Initialize X_indices as a numpy matrix of zeros and the correct shape (≈ 1 line)\n",
    "    X_indices = np.zeros((m,max_len))\n",
    "    #print(X1_indices)\n",
    "    for i in range(m):                               # loop over training examples\n",
    "        \n",
    "        # Convert the ith training sentence in lower case and split is into words. You should get a list of words.\n",
    "        sentence_words =tokenizer.tokenize(X[i])\n",
    "        \n",
    "        # Initialize j to 0\n",
    "        j = 0\n",
    "        \n",
    "        # Loop over the words of sentence_words\n",
    "        for w in sentence_words:\n",
    "            # Set the (i,j)th entry of X_indices to the index of the correct word.\n",
    "            try:\n",
    "              X_indices[i, j] = word_to_index[w]\n",
    "            except:\n",
    "              continue\n",
    "            # Increment j to j + 1\n",
    "            j = j + 1\n",
    "            \n",
    "    ### END CODE HERE ###\n",
    "    \n",
    "    return X_indices"
   ]
  },
  {
   "cell_type": "code",
   "execution_count": null,
   "metadata": {
    "colab": {
     "base_uri": "https://localhost:8080/"
    },
    "id": "Vsh-P11iUEnw",
    "outputId": "17740c80-6faa-41cb-f75a-1a18abf10b31"
   },
   "outputs": [],
   "source": [
    "X1 = np.array([\"hey dude\", \"how are you\", \"how is it going\"])\n",
    "X1_indices = sentences_to_indices(X1,word_to_index, max_len = 5)\n",
    "print(\"X1 =\", X1)\n",
    "print(\"X1_indices =\\n\", X1_indices)"
   ]
  },
  {
   "cell_type": "code",
   "execution_count": null,
   "metadata": {
    "id": "mc77FlyWmBJa"
   },
   "outputs": [],
   "source": [
    "def pretrained_embedding_layer(word_to_vec_map, word_to_index):\n",
    "    \"\"\"\n",
    "    Creates a Keras Embedding() layer and loads in pre-trained GloVe 50-dimensional vectors.\n",
    "    \n",
    "    Arguments:\n",
    "    word_to_vec_map -- dictionary mapping words to their GloVe vector representation.\n",
    "    word_to_index -- dictionary mapping from words to their indices in the vocabulary (400,001 words)\n",
    "\n",
    "    Returns:\n",
    "    embedding_layer -- pretrained layer Keras instance\n",
    "    \"\"\"\n",
    "    \n",
    "    vocab_len = len(word_to_index) + 1                  # adding 1 to fit Keras embedding (requirement)\n",
    "    emb_dim = word_to_vec_map[\"cucumber\"].shape[0]      # define dimensionality of your GloVe word vectors (= 50)\n",
    "    \n",
    "    \n",
    "    # Step 1\n",
    "    # Initialize the embedding matrix as a numpy array of zeros.\n",
    "    # See instructions above to choose the correct shape.\n",
    "    emb_matrix = np.zeros((vocab_len,emb_dim))\n",
    "    \n",
    "    # Step 2\n",
    "    # Set each row \"idx\" of the embedding matrix to be \n",
    "    # the word vector representation of the idx'th word of the vocabulary\n",
    "    for word, idx in word_to_index.items():\n",
    "        emb_matrix[idx, :] = word_to_vec_map[word]\n",
    "\n",
    "    # Step 3\n",
    "    # Define Keras embedding layer with the correct input and output sizes\n",
    "    # Make it non-trainable.\n",
    "    embedding_layer = Embedding(vocab_len,emb_dim,trainable = False)\n",
    "    \n",
    "\n",
    "    # Step 4 (already done for you; please do not modify)\n",
    "    # Build the embedding layer, it is required before setting the weights of the embedding layer. \n",
    "    embedding_layer.build((None,)) # Do not modify the \"None\".  This line of code is complete as-is.\n",
    "    \n",
    "    # Set the weights of the embedding layer to the embedding matrix. Your layer is now pretrained.\n",
    "    embedding_layer.set_weights([emb_matrix])\n",
    "    \n",
    "    return embedding_layer"
   ]
  },
  {
   "cell_type": "markdown",
   "metadata": {
    "id": "YqH8uZVK43WR"
   },
   "source": [
    "Lets test this function"
   ]
  },
  {
   "cell_type": "code",
   "execution_count": null,
   "metadata": {
    "colab": {
     "base_uri": "https://localhost:8080/"
    },
    "id": "N8j2xWeamBD1",
    "outputId": "81cd3902-f3f0-4d8d-86c1-7f3cb8c9e16c"
   },
   "outputs": [],
   "source": [
    "embedding_layer = pretrained_embedding_layer(word_to_vec_map, word_to_index)\n",
    "print(\"weights[0][1][3] =\", embedding_layer.get_weights()[0][1][3])"
   ]
  },
  {
   "cell_type": "code",
   "execution_count": null,
   "metadata": {
    "id": "QVnT7OiC8pfU"
   },
   "outputs": [],
   "source": [
    "def convert_to_one_hot(Y, C):\n",
    "    Y = np.eye(C)[Y.reshape(-1)]\n",
    "    return Y"
   ]
  },
  {
   "cell_type": "markdown",
   "metadata": {
    "id": "YPpuRabEQI2w"
   },
   "source": [
    "**Read the data**"
   ]
  },
  {
   "cell_type": "code",
   "execution_count": null,
   "metadata": {
    "id": "bWrxtwWNQMj-"
   },
   "outputs": [],
   "source": [
    "import csv\n",
    "def read_csv(filename = '/content/train_command.csv'):\n",
    "    phrase = []\n",
    "    labels = []\n",
    "\n",
    "    with open (filename) as csvDataFile:\n",
    "        csvReader = csv.reader(csvDataFile)\n",
    "\n",
    "        for row in csvReader:\n",
    "            phrase.append(row[0])\n",
    "            labels.append(row[1])\n",
    "\n",
    "    X = np.asarray(phrase)\n",
    "    Y = np.asarray(labels, dtype=int)\n",
    "\n",
    "    return X, Y\n"
   ]
  },
  {
   "cell_type": "code",
   "execution_count": null,
   "metadata": {
    "id": "f1awW8kHmA60"
   },
   "outputs": [],
   "source": [
    "X_train, Y_train = read_csv('train_command.csv')\n",
    "X_test, Y_test= read_csv('validation command.csv')"
   ]
  },
  {
   "cell_type": "code",
   "execution_count": null,
   "metadata": {
    "id": "I92mSWA8OBcU"
   },
   "outputs": [],
   "source": [
    "for command in X_train:\n",
    "  text_to_word_list(command)"
   ]
  },
  {
   "cell_type": "code",
   "execution_count": null,
   "metadata": {
    "id": "RzcsuJdSg86O"
   },
   "outputs": [],
   "source": [
    "maxLen = len(max(X_train, key=len).split())"
   ]
  },
  {
   "cell_type": "code",
   "execution_count": null,
   "metadata": {
    "colab": {
     "base_uri": "https://localhost:8080/"
    },
    "id": "R3-pir4Q8VbC",
    "outputId": "054b67be-387a-426a-923e-b26f4e7bd86b"
   },
   "outputs": [],
   "source": [
    "print(maxLen)"
   ]
  },
  {
   "cell_type": "code",
   "execution_count": null,
   "metadata": {
    "id": "w_WXVjE59JjD"
   },
   "outputs": [],
   "source": [
    "def similarity_model(input_shape, word_to_vec_map, word_to_index):\n",
    "    \"\"\"\n",
    "    Function creating the Emojify-v2 model's graph.\n",
    "    \n",
    "    Arguments:\n",
    "    input_shape -- shape of the input, usually (max_len,)\n",
    "    word_to_vec_map -- dictionary mapping every word in a vocabulary into its 50-dimensional vector representation\n",
    "    word_to_index -- dictionary mapping from words to their indices in the vocabulary (400,001 words)\n",
    "\n",
    "    Returns:\n",
    "    model -- a model instance in Keras\n",
    "    \"\"\"\n",
    "    \n",
    "    \n",
    "    # Define sentence_indices as the input of the graph.\n",
    "    # It should be of shape input_shape and dtype 'int32' (as it contains indices, which are integers).\n",
    "    sentence_indices = Input(input_shape,dtype = 'int32')\n",
    "    \n",
    "    # Create the embedding layer pretrained with GloVe Vectors (≈1 line)\n",
    "    embedding_layer = pretrained_embedding_layer(word_to_vec_map,word_to_index)\n",
    "    \n",
    "    # Propagate sentence_indices through your embedding layer\n",
    "    # (See additional hints in the instructions).\n",
    "    embeddings = embedding_layer(sentence_indices)   \n",
    "    \n",
    "    # Propagate the embeddings through an LSTM layer with 128-dimensional hidden state\n",
    "    # The returned output should be a batch of sequences.\n",
    "    X = LSTM(128,return_sequences =True)(embeddings)\n",
    "    # Add dropout with a probability of 0.5\n",
    "    X = Dropout(0.5)(X)\n",
    "    # Propagate X trough another LSTM layer with 128-dimensional hidden state\n",
    "    # The returned output should be a single hidden state, not a batch of sequences.\n",
    "    X = LSTM(128,return_sequences = False)(X)\n",
    "    # Add dropout with a probability of 0.5\n",
    "    X = Dropout(0.5)(X)\n",
    "    # Propagate X through a Dense layer with 5 units\n",
    "    X = Dense(units=15)(X)\n",
    "    # Add a softmax activation\n",
    "    X = Activation('softmax')(X)\n",
    "    \n",
    "    # Create Model instance which converts sentence_indices into X.\n",
    "    model = Model(sentence_indices,X)\n",
    "    \n",
    "    ### END CODE HERE ###\n",
    "    \n",
    "    return model"
   ]
  },
  {
   "cell_type": "code",
   "execution_count": null,
   "metadata": {
    "colab": {
     "base_uri": "https://localhost:8080/"
    },
    "id": "o_uVMvtg9Jgf",
    "outputId": "d19ebcfd-24c1-4676-e130-d6a79345a3cc"
   },
   "outputs": [],
   "source": [
    "model = similarity_model((maxLen,), word_to_vec_map, word_to_index)\n",
    "model.summary()"
   ]
  },
  {
   "cell_type": "code",
   "execution_count": null,
   "metadata": {
    "id": "iTmwRHlf9Jdn"
   },
   "outputs": [],
   "source": [
    "model.compile(loss='categorical_crossentropy', optimizer='adam', metrics=['accuracy'])"
   ]
  },
  {
   "cell_type": "code",
   "execution_count": null,
   "metadata": {
    "id": "5PNuPbUBZIFD"
   },
   "outputs": [],
   "source": [
    "'''\n",
    "X_train_indices = []\n",
    "for command in X_train:\n",
    "  temp = sentences_to_indices(command,word_to_index,maxLen)\n",
    "  X_train_indices.append(temp)'''"
   ]
  },
  {
   "cell_type": "code",
   "execution_count": null,
   "metadata": {
    "id": "9hOAEbN4UOuQ"
   },
   "outputs": [],
   "source": [
    "X_train_indices = sentences_to_indices(X_train, word_to_index, maxLen)\n"
   ]
  },
  {
   "cell_type": "code",
   "execution_count": null,
   "metadata": {
    "id": "ZT9xC_MJD4-q"
   },
   "outputs": [],
   "source": [
    "\n",
    "def convert_to_one_hot(Y, C):\n",
    "    Y = np.eye(C)[Y.reshape(-1)]\n",
    "    return Y\n"
   ]
  },
  {
   "cell_type": "code",
   "execution_count": null,
   "metadata": {
    "id": "U-c6JyCFSs4j"
   },
   "outputs": [],
   "source": [
    "Y_train_oh = convert_to_one_hot(Y_train,15)"
   ]
  },
  {
   "cell_type": "code",
   "execution_count": null,
   "metadata": {
    "colab": {
     "base_uri": "https://localhost:8080/"
    },
    "id": "lrno1douSU3H",
    "outputId": "08a780b4-4441-46ee-f66f-4434cd90ec6b"
   },
   "outputs": [],
   "source": [
    "X_train_indices.shape"
   ]
  },
  {
   "cell_type": "code",
   "execution_count": null,
   "metadata": {
    "colab": {
     "base_uri": "https://localhost:8080/"
    },
    "id": "dtd-R6bl9JXf",
    "outputId": "7a015096-6296-497f-eeb7-f7f10fa6a1ce"
   },
   "outputs": [],
   "source": [
    "model.fit(X_train_indices, Y_train_oh, epochs = 50, batch_size = 20, shuffle=True)"
   ]
  },
  {
   "cell_type": "code",
   "execution_count": null,
   "metadata": {
    "id": "w_TyouT_9JUU"
   },
   "outputs": [],
   "source": [
    "# Now test the model\n",
    "\n",
    "X_test_indices = sentences_to_indices(X_test, word_to_index, maxLen)\n",
    "Y_test_oh = convert_to_one_hot(Y_test, C = 15)\n"
   ]
  },
  {
   "cell_type": "code",
   "execution_count": null,
   "metadata": {
    "colab": {
     "base_uri": "https://localhost:8080/"
    },
    "id": "SrZPqgjloMJQ",
    "outputId": "a1b96a77-0333-4ce4-dc24-2f168d27d78d"
   },
   "outputs": [],
   "source": [
    "loss, acc = model.evaluate(X_test_indices, Y_test_oh)\n",
    "print()\n",
    "print(\"Test accuracy = \", acc)"
   ]
  },
  {
   "cell_type": "code",
   "execution_count": null,
   "metadata": {
    "id": "y0aUU3sN9JQu"
   },
   "outputs": [],
   "source": [
    "sen = np.array(['tell me a jock dude can you'])\n",
    "sen_idx = sentences_to_indices(sen,word_to_index,max_len = maxLen)\n"
   ]
  },
  {
   "cell_type": "code",
   "execution_count": null,
   "metadata": {
    "id": "LfPbCHKKMv2-"
   },
   "outputs": [],
   "source": [
    "print(np.argmax(model.predict(sen_idx)))"
   ]
  },
  {
   "cell_type": "code",
   "execution_count": null,
   "metadata": {
    "id": "-SCK9b4qptMn"
   },
   "outputs": [],
   "source": [
    "model.save('/content/gdrive/MyDrive/Datasets/Ultimate_Dude_Model.h5')"
   ]
  },
  {
   "cell_type": "markdown",
   "metadata": {
    "id": "RIoKaHfkMKkP"
   },
   "source": [
    "# Great Job Dude!!"
   ]
  },
  {
   "cell_type": "markdown",
   "metadata": {
    "id": "-ZfhdoMdQzTM"
   },
   "source": [
    "# Test area"
   ]
  },
  {
   "cell_type": "code",
   "execution_count": null,
   "metadata": {
    "id": "KrphLN-MQwt5"
   },
   "outputs": [],
   "source": [
    "from tensorflow.keras.models import load_model\n",
    "import nltk\n",
    "import numpy as np\n",
    "\n",
    "ultimate_galvin_model = load_model('/content/gdrive/MyDrive/Datasets/Ultimate_Dude_Model.h5')"
   ]
  },
  {
   "cell_type": "markdown",
   "metadata": {
    "id": "N2ovw17bTiuI"
   },
   "source": [
    "**prerequisites for prediction**"
   ]
  },
  {
   "cell_type": "code",
   "execution_count": null,
   "metadata": {
    "id": "kFG9uAtDS_2V"
   },
   "outputs": [],
   "source": [
    "# Its a zip file so now to need to unzip it.\n",
    "import zipfile\n",
    "\n",
    "test_file_path = '/content/gdrive/MyDrive/Datasets/global-vectors-for-word-representation.zip'\n",
    "\n",
    "\n",
    "with zipfile.ZipFile(test_file_path,\"r\") as zip_ref:\n",
    "    zip_ref.extractall(\"/content/sample_data/datasets\")"
   ]
  },
  {
   "cell_type": "code",
   "execution_count": null,
   "metadata": {
    "id": "7rKq8GV_T7oG"
   },
   "outputs": [],
   "source": [
    "def read_glove_vecs(glove_file):\n",
    "    with open(glove_file, 'r') as f:\n",
    "        words = set()\n",
    "        word_to_vec_map = {}\n",
    "        for line in f:\n",
    "            line = line.strip().split()\n",
    "            curr_word = line[0]\n",
    "            words.add(curr_word)\n",
    "            word_to_vec_map[curr_word] = np.array(line[1:], dtype=np.float64)\n",
    "        \n",
    "        i = 1\n",
    "        words_to_index = {}\n",
    "        index_to_words = {}\n",
    "        for w in sorted(words):\n",
    "            words_to_index[w] = i\n",
    "            index_to_words[i] = w\n",
    "            i = i + 1\n",
    "    return words_to_index, index_to_words, word_to_vec_map\n"
   ]
  },
  {
   "cell_type": "code",
   "execution_count": null,
   "metadata": {
    "id": "ySlVb-AsTc0w"
   },
   "outputs": [],
   "source": [
    "word_to_index, index_to_word, word_to_vec_map = read_glove_vecs('/content/sample_data/datasets/glove.6B.200d.txt')"
   ]
  },
  {
   "cell_type": "code",
   "execution_count": null,
   "metadata": {
    "id": "dGOw0mSzSdgp"
   },
   "outputs": [],
   "source": [
    "\n",
    "inverse_vocabulary = ['<unk>'] \n",
    "tokenizer = nltk.tokenize.TreebankWordTokenizer()\n",
    "def sentences_to_indices(X, word_to_index, max_len):\n",
    "    \"\"\"\n",
    "    Converts an array of sentences (strings) into an array of indices corresponding to words in the sentences.\n",
    "    The output shape should be such that it can be given to `Embedding()` (described in Figure 4). \n",
    "    \n",
    "    Arguments:\n",
    "    X -- array of sentences (strings), of shape (m, 1)\n",
    "    word_to_index -- a dictionary containing the each word mapped to its index\n",
    "    max_len -- maximum number of words in a sentence. You can assume every sentence in X is no longer than this. \n",
    "    \n",
    "    Returns:\n",
    "    X_indices -- array of indices corresponding to words in the sentences from X, of shape (m, max_len)\n",
    "    \"\"\"\n",
    "    \n",
    "    m = X.shape[0]                                   # number of training examples\n",
    "    \n",
    "    ### START CODE HERE ###\n",
    "    # Initialize X_indices as a numpy matrix of zeros and the correct shape (≈ 1 line)\n",
    "    X_indices = np.zeros((m,max_len))\n",
    "    #print(X1_indices)\n",
    "    for i in range(m):                               # loop over training examples\n",
    "        \n",
    "        # Convert the ith training sentence in lower case and split is into words. You should get a list of words.\n",
    "        sentence_words =tokenizer.tokenize(X[i])\n",
    "        \n",
    "        # Initialize j to 0\n",
    "        j = 0\n",
    "        \n",
    "        # Loop over the words of sentence_words\n",
    "        for w in sentence_words:\n",
    "            # Set the (i,j)th entry of X_indices to the index of the correct word.\n",
    "            try:\n",
    "              X_indices[i, j] = word_to_index[w]\n",
    "            except:\n",
    "              continue\n",
    "            # Increment j to j + 1\n",
    "            j = j + 1\n",
    "            \n",
    "    ### END CODE HERE ###\n",
    "    \n",
    "    return X_indices"
   ]
  },
  {
   "cell_type": "code",
   "execution_count": null,
   "metadata": {
    "colab": {
     "base_uri": "https://localhost:8080/"
    },
    "id": "uWTKLwkZQ5Pd",
    "outputId": "d647ed43-66ab-48d6-b306-cf20972b7ef3"
   },
   "outputs": [],
   "source": [
    "maxLen = 11\n",
    "test_sen = np.array(['hey whats your name dude'])\n",
    "sen_idx = sentences_to_indices(test_sen,word_to_index,maxLen)\n",
    "\n",
    "print(np.argmax(ultimate_galvin_model.predict(sen_idx)))"
   ]
  },
  {
   "cell_type": "markdown",
   "metadata": {
    "id": "4yc-DS9bUYiE"
   },
   "source": [
    "# That's it"
   ]
  }
 ],
 "metadata": {
  "colab": {
   "collapsed_sections": [],
   "name": "Command similarity(Dude mind).ipynb",
   "provenance": [],
   "toc_visible": true
  },
  "kernelspec": {
   "display_name": "Python 3",
   "language": "python",
   "name": "python3"
  },
  "language_info": {
   "codemirror_mode": {
    "name": "ipython",
    "version": 3
   },
   "file_extension": ".py",
   "mimetype": "text/x-python",
   "name": "python",
   "nbconvert_exporter": "python",
   "pygments_lexer": "ipython3",
   "version": "3.7.6"
  }
 },
 "nbformat": 4,
 "nbformat_minor": 1
}
